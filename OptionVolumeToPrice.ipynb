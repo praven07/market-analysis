{
 "cells": [
  {
   "cell_type": "markdown",
   "id": "f9ae63d1",
   "metadata": {},
   "source": [
    "### Option Volume to SPY comparision\n",
    "\n",
    "In this note it tries to see if there is a correlitation between daily options volume to the movement in SPY. It fetches the daily data for a"
   ]
  },
  {
   "cell_type": "code",
   "execution_count": 1,
   "id": "e2aa0fbf",
   "metadata": {},
   "outputs": [],
   "source": [
    "import numpy as py\n",
    "import matplotlib.pyplot as plt\n",
    "import pandas as pd\n",
    "import yfinance as yf\n",
    "import urllib.request as request\n",
    "import json\n",
    "from datetime import datetime\n",
    "from matplotlib.dates import MonthLocator, YearLocator, DayLocator\n",
    "import seaborn as sns"
   ]
  },
  {
   "cell_type": "markdown",
   "id": "223b6046",
   "metadata": {},
   "source": [
    "##### Plot styles"
   ]
  },
  {
   "cell_type": "code",
   "execution_count": 2,
   "id": "a51dd7a6",
   "metadata": {},
   "outputs": [],
   "source": [
    "sns.set_theme(palette=\"pastel\")\n",
    "plt.rcParams[\"figure.figsize\"] = (20,10)"
   ]
  },
  {
   "cell_type": "markdown",
   "id": "5e1523fb",
   "metadata": {},
   "source": [
    "##### The timeframe for the analysis"
   ]
  },
  {
   "cell_type": "code",
   "execution_count": 7,
   "id": "ed983e70",
   "metadata": {},
   "outputs": [],
   "source": [
    "startDate = \"2022-09-01\"\n",
    "endDate = \"2022-09-13\""
   ]
  },
  {
   "cell_type": "markdown",
   "id": "e9177700",
   "metadata": {},
   "source": [
    "##### Fetch SPY data."
   ]
  },
  {
   "cell_type": "code",
   "execution_count": 8,
   "id": "3158d5f2",
   "metadata": {
    "scrolled": false
   },
   "outputs": [
    {
     "name": "stdout",
     "output_type": "stream",
     "text": [
      "[*********************100%***********************]  1 of 1 completed\n"
     ]
    },
    {
     "data": {
      "text/html": [
       "<div>\n",
       "<style scoped>\n",
       "    .dataframe tbody tr th:only-of-type {\n",
       "        vertical-align: middle;\n",
       "    }\n",
       "\n",
       "    .dataframe tbody tr th {\n",
       "        vertical-align: top;\n",
       "    }\n",
       "\n",
       "    .dataframe thead th {\n",
       "        text-align: right;\n",
       "    }\n",
       "</style>\n",
       "<table border=\"1\" class=\"dataframe\">\n",
       "  <thead>\n",
       "    <tr style=\"text-align: right;\">\n",
       "      <th></th>\n",
       "      <th>Open</th>\n",
       "      <th>High</th>\n",
       "      <th>Low</th>\n",
       "      <th>Close</th>\n",
       "      <th>Adj Close</th>\n",
       "      <th>Volume</th>\n",
       "    </tr>\n",
       "    <tr>\n",
       "      <th>Date</th>\n",
       "      <th></th>\n",
       "      <th></th>\n",
       "      <th></th>\n",
       "      <th></th>\n",
       "      <th></th>\n",
       "      <th></th>\n",
       "    </tr>\n",
       "  </thead>\n",
       "  <tbody>\n",
       "    <tr>\n",
       "      <th>2022-09-01</th>\n",
       "      <td>392.890015</td>\n",
       "      <td>396.779999</td>\n",
       "      <td>390.040009</td>\n",
       "      <td>396.420013</td>\n",
       "      <td>396.420013</td>\n",
       "      <td>78740100</td>\n",
       "    </tr>\n",
       "    <tr>\n",
       "      <th>2022-09-02</th>\n",
       "      <td>400.279999</td>\n",
       "      <td>401.559998</td>\n",
       "      <td>390.329987</td>\n",
       "      <td>392.239990</td>\n",
       "      <td>392.239990</td>\n",
       "      <td>99574100</td>\n",
       "    </tr>\n",
       "    <tr>\n",
       "      <th>2022-09-06</th>\n",
       "      <td>393.130005</td>\n",
       "      <td>394.119995</td>\n",
       "      <td>388.420013</td>\n",
       "      <td>390.760010</td>\n",
       "      <td>390.760010</td>\n",
       "      <td>76637400</td>\n",
       "    </tr>\n",
       "    <tr>\n",
       "      <th>2022-09-07</th>\n",
       "      <td>390.429993</td>\n",
       "      <td>398.589996</td>\n",
       "      <td>390.200012</td>\n",
       "      <td>397.779999</td>\n",
       "      <td>397.779999</td>\n",
       "      <td>70964200</td>\n",
       "    </tr>\n",
       "    <tr>\n",
       "      <th>2022-09-08</th>\n",
       "      <td>395.390015</td>\n",
       "      <td>400.859985</td>\n",
       "      <td>394.119995</td>\n",
       "      <td>400.380005</td>\n",
       "      <td>400.380005</td>\n",
       "      <td>80821700</td>\n",
       "    </tr>\n",
       "    <tr>\n",
       "      <th>2022-09-09</th>\n",
       "      <td>402.739990</td>\n",
       "      <td>407.510010</td>\n",
       "      <td>402.459991</td>\n",
       "      <td>406.600006</td>\n",
       "      <td>406.600006</td>\n",
       "      <td>76618100</td>\n",
       "    </tr>\n",
       "    <tr>\n",
       "      <th>2022-09-12</th>\n",
       "      <td>408.779999</td>\n",
       "      <td>411.730011</td>\n",
       "      <td>408.459991</td>\n",
       "      <td>410.970001</td>\n",
       "      <td>410.970001</td>\n",
       "      <td>69122500</td>\n",
       "    </tr>\n",
       "  </tbody>\n",
       "</table>\n",
       "</div>"
      ],
      "text/plain": [
       "                  Open        High         Low       Close   Adj Close  \\\n",
       "Date                                                                     \n",
       "2022-09-01  392.890015  396.779999  390.040009  396.420013  396.420013   \n",
       "2022-09-02  400.279999  401.559998  390.329987  392.239990  392.239990   \n",
       "2022-09-06  393.130005  394.119995  388.420013  390.760010  390.760010   \n",
       "2022-09-07  390.429993  398.589996  390.200012  397.779999  397.779999   \n",
       "2022-09-08  395.390015  400.859985  394.119995  400.380005  400.380005   \n",
       "2022-09-09  402.739990  407.510010  402.459991  406.600006  406.600006   \n",
       "2022-09-12  408.779999  411.730011  408.459991  410.970001  410.970001   \n",
       "\n",
       "              Volume  \n",
       "Date                  \n",
       "2022-09-01  78740100  \n",
       "2022-09-02  99574100  \n",
       "2022-09-06  76637400  \n",
       "2022-09-07  70964200  \n",
       "2022-09-08  80821700  \n",
       "2022-09-09  76618100  \n",
       "2022-09-12  69122500  "
      ]
     },
     "execution_count": 8,
     "metadata": {},
     "output_type": "execute_result"
    }
   ],
   "source": [
    "spy = yf.download(\"SPY\", start=startDate, end=endDate)\n",
    "spy"
   ]
  },
  {
   "cell_type": "markdown",
   "id": "082ef420",
   "metadata": {},
   "source": [
    "##### Fetches the daily options volue for OCC website for the selected month."
   ]
  },
  {
   "cell_type": "code",
   "execution_count": 5,
   "id": "14fbf222",
   "metadata": {},
   "outputs": [
    {
     "data": {
      "text/html": [
       "<div>\n",
       "<style scoped>\n",
       "    .dataframe tbody tr th:only-of-type {\n",
       "        vertical-align: middle;\n",
       "    }\n",
       "\n",
       "    .dataframe tbody tr th {\n",
       "        vertical-align: top;\n",
       "    }\n",
       "\n",
       "    .dataframe thead th {\n",
       "        text-align: right;\n",
       "    }\n",
       "</style>\n",
       "<table border=\"1\" class=\"dataframe\">\n",
       "  <thead>\n",
       "    <tr style=\"text-align: right;\">\n",
       "      <th></th>\n",
       "      <th>OCCTotal</th>\n",
       "    </tr>\n",
       "    <tr>\n",
       "      <th>Date</th>\n",
       "      <th></th>\n",
       "    </tr>\n",
       "  </thead>\n",
       "  <tbody>\n",
       "    <tr>\n",
       "      <th>2022-09-01</th>\n",
       "      <td>43947189</td>\n",
       "    </tr>\n",
       "    <tr>\n",
       "      <th>2022-09-02</th>\n",
       "      <td>45432682</td>\n",
       "    </tr>\n",
       "    <tr>\n",
       "      <th>2022-09-06</th>\n",
       "      <td>37901540</td>\n",
       "    </tr>\n",
       "    <tr>\n",
       "      <th>2022-09-07</th>\n",
       "      <td>39843262</td>\n",
       "    </tr>\n",
       "    <tr>\n",
       "      <th>2022-09-08</th>\n",
       "      <td>39026928</td>\n",
       "    </tr>\n",
       "    <tr>\n",
       "      <th>2022-09-09</th>\n",
       "      <td>45298382</td>\n",
       "    </tr>\n",
       "    <tr>\n",
       "      <th>2022-09-12</th>\n",
       "      <td>39599937</td>\n",
       "    </tr>\n",
       "  </tbody>\n",
       "</table>\n",
       "</div>"
      ],
      "text/plain": [
       "            OCCTotal\n",
       "Date                \n",
       "2022-09-01  43947189\n",
       "2022-09-02  45432682\n",
       "2022-09-06  37901540\n",
       "2022-09-07  39843262\n",
       "2022-09-08  39026928\n",
       "2022-09-09  45298382\n",
       "2022-09-12  39599937"
      ]
     },
     "execution_count": 5,
     "metadata": {},
     "output_type": "execute_result"
    }
   ],
   "source": [
    "url = f'https://marketdata.theocc.com/mdapi/historical-volume?report_type=VS&report_time=D&report_date={endDate}'\n",
    "\n",
    "response = request.urlopen(url)\n",
    "data = json.loads(response.read())\n",
    "\n",
    "#Parse the daily options volume data\n",
    "daily_volume_data = []\n",
    "\n",
    "for row in data[\"entity\"][\"dailyVolumeDataList\"]:\n",
    "    daily_volume_data.append({\n",
    "        \"Date\": datetime.fromtimestamp(row[\"activityDate\"] / 1000), #Convert date from milisecond to seconds.\n",
    "        \"OCCTotal\": row[\"occTotal\"]\n",
    "    })\n",
    "    \n",
    "daily_options_volume = pd.DataFrame(daily_volume_data)\n",
    "daily_options_volume.sort_index(ascending=False, inplace=True)\n",
    "daily_options_volume.set_index(\"Date\", inplace=True)\n",
    "\n",
    "daily_options_volume"
   ]
  },
  {
   "cell_type": "markdown",
   "id": "08fb016f",
   "metadata": {},
   "source": [
    "##### Plot both options and spy together for analysis"
   ]
  },
  {
   "cell_type": "code",
   "execution_count": 9,
   "id": "fca6da86",
   "metadata": {},
   "outputs": [
    {
     "data": {
      "image/png": "[encoded data removed]",
      "text/plain": [
       "<Figure size 1440x720 with 2 Axes>"
      ]
     },
     "metadata": {},
     "output_type": "display_data"
    }
   ],
   "source": [
    "figure, axis = plt.subplots(2, 1)\n",
    "\n",
    "dloc = DayLocator()\n",
    "\n",
    "# Option daily volume plot\n",
    "oax = axis[0]\n",
    "oax.set_title(\"Daily Option Volume\")\n",
    "oax.plot(daily_options_volume.index, daily_options_volume[\"OCCTotal\"], marker = 'o', color='green')\n",
    "oax.xaxis.set_major_locator(dloc)\n",
    "oax.grid(which='major', axis='y')\n",
    "oax.set_xticklabels(\"\")\n",
    "\n",
    "\n",
    "# SPY plot\n",
    "sax = axis[1]\n",
    "sax.set_title(\"SPY Price\")\n",
    "sax.plot(spy.index, spy[\"Close\"], marker = 'o', color='green')\n",
    "sax.xaxis.set_major_locator(dloc)\n",
    "sax.grid(which='major', axis='y')\n",
    "sax.set_xticklabels(\"\")\n",
    "\n",
    "plt.show()"
   ]
  }
 ],
 "metadata": {
  "kernelspec": {
   "display_name": "Python 3 (ipykernel)",
   "language": "python",
   "name": "python3"
  },
  "language_info": {
   "codemirror_mode": {
    "name": "ipython",
    "version": 3
   },
   "file_extension": ".py",
   "mimetype": "text/x-python",
   "name": "python",
   "nbconvert_exporter": "python",
   "pygments_lexer": "ipython3",
   "version": "3.9.12"
  }
 },
 "nbformat": 4,
 "nbformat_minor": 5
}
